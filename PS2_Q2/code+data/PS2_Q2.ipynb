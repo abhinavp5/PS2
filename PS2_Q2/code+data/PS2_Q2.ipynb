{
 "cells": [
  {
   "cell_type": "code",
   "execution_count": 2,
   "id": "eb6af5c5",
   "metadata": {},
   "outputs": [],
   "source": [
    "import numpy as np\n",
    "import matplotlib.pyplot as plt\n",
    "import torch"
   ]
  },
  {
   "cell_type": "markdown",
   "id": "e315b421",
   "metadata": {},
   "source": [
    "### Read and visualize data"
   ]
  },
  {
   "cell_type": "code",
   "execution_count": 3,
   "id": "dccd8752",
   "metadata": {},
   "outputs": [
    {
     "name": "stdout",
     "output_type": "stream",
     "text": [
      "Dimension of velocity V0:  (2, 100, 100)\n",
      "Dimension of image:  (100, 100)\n"
     ]
    }
   ],
   "source": [
    "# All paths are relative. please change the current directory as per your file tree.\n",
    "\n",
    "# Read in data as a 2, 100, 100 vector field'''\n",
    "velocity= torch.load('v0.pt').numpy()\n",
    "print(\"Dimension of velocity V0: \", velocity.shape)\n",
    "\n",
    "# Read in data as a 1, 100, 100  image\n",
    "source= torch.load('source.pt').numpy()\n",
    "print(\"Dimension of image: \", source.shape)"
   ]
  },
  {
   "cell_type": "code",
   "execution_count": 4,
   "id": "3b19f5a3",
   "metadata": {},
   "outputs": [
    {
     "data": {
      "text/plain": [
       "<matplotlib.image.AxesImage at 0x7faae8035be0>"
      ]
     },
     "execution_count": 4,
     "metadata": {},
     "output_type": "execute_result"
    },
    {
     "data": {
      "image/png": "[encoded data removed]",
      "text/plain": [
       "<Figure size 640x480 with 1 Axes>"
      ]
     },
     "metadata": {},
     "output_type": "display_data"
    }
   ],
   "source": [
    "plt.imshow(source, cmap='gray')"
   ]
  },
  {
   "cell_type": "markdown",
   "id": "9fdea7fc",
   "metadata": {},
   "source": [
    "### Gradient computation"
   ]
  },
  {
   "cell_type": "code",
   "execution_count": 5,
   "id": "6cb1075d",
   "metadata": {},
   "outputs": [],
   "source": [
    "def forward_difference_x(image):\n",
    "    rows, cols = image.shape\n",
    "    d = np.zeros((rows,cols))\n",
    "    d[:,1:cols-1] = image[:,1:cols-1] - image[:,0:cols-2];\n",
    "    d[:,0] = image[:,0] - image[:,cols-1];\n",
    "    return d\n",
    "\n",
    "\n",
    "def forward_difference_y(image):\n",
    "    rows, cols = image.shape\n",
    "    d = np.zeros((rows,cols))\n",
    "    d[1:rows-1,:] = image[1:rows-1,:] - image[0:rows-2,:];\n",
    "    d[0,:] = image[0,:] - image[rows-1,:];\n",
    "    return d\n",
    "\n",
    "def backward_difference_x(image):\n",
    "    rows, cols = image.shape\n",
    "    d = np.zeros((rows,cols))\n",
    "    d[:,1:cols-1] = image[:,1:cols-1] - image[:,2:cols]\n",
    "    d[:,-1] = image[:,-1] - image[:,0]\n",
    "    return d\n",
    "\n",
    "def backward_difference_y(image):\n",
    "    rows, cols = image.shape\n",
    "    d = np.zeros((rows,cols))\n",
    "    d[1:rows-1,:] = image[1:rows-1,:] - image[2:rows,:]\n",
    "    d[-1,:] = image[-1,:] - image[0,:]\n",
    "    return d\n",
    "\n",
    "def central_difference_x(image):\n",
    "    cdif=(forward_difference_x(image)+backward_difference_x(image))/2\n",
    "    return cdif\n",
    "\n",
    "def central_difference_y(image):\n",
    "    cdif=(forward_difference_y(image)+backward_difference_y(image))/2\n",
    "    return cdif"
   ]
  },
  {
   "cell_type": "code",
   "execution_count": null,
   "id": "d689e836",
   "metadata": {},
   "outputs": [],
   "source": []
  }
 ],
 "metadata": {
  "kernelspec": {
   "display_name": "Python 3 (ipykernel)",
   "language": "python",
   "name": "python3"
  },
  "language_info": {
   "codemirror_mode": {
    "name": "ipython",
    "version": 3
   },
   "file_extension": ".py",
   "mimetype": "text/x-python",
   "name": "python",
   "nbconvert_exporter": "python",
   "pygments_lexer": "ipython3",
   "version": "3.9.16"
  }
 },
 "nbformat": 4,
 "nbformat_minor": 5
}
